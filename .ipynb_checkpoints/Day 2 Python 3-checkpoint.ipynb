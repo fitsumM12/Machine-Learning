{
 "cells": [
  {
   "cell_type": "code",
   "execution_count": 2,
   "metadata": {
    "colab": {
     "base_uri": "https://localhost:8080/"
    },
    "executionInfo": {
     "elapsed": 1461,
     "status": "ok",
     "timestamp": 1621424708938,
     "user": {
      "displayName": "Fitsum",
      "photoUrl": "https://lh3.googleusercontent.com/a-/AOh14GgulwPAd6Nd1M70pwZ6Ri60G9Sf46krcxfeWofJTg=s64",
      "userId": "06892076790962452809"
     },
     "user_tz": -330
    },
    "id": "cNr3AMzkbBW9",
    "outputId": "68af843d-483c-4df4-ba82-f05797dbd9bc"
   },
   "outputs": [
    {
     "name": "stdout",
     "output_type": "stream",
     "text": [
      "Python For Beginners at 23\n"
     ]
    }
   ],
   "source": [
    "course = \"Python For Beginners\"\n",
    "num = 23\n",
    "#string concatination method\n",
    "print(course + \" at \" + str(num))\n"
   ]
  },
  {
   "cell_type": "code",
   "execution_count": 3,
   "metadata": {
    "colab": {
     "base_uri": "https://localhost:8080/"
    },
    "executionInfo": {
     "elapsed": 1131,
     "status": "ok",
     "timestamp": 1621424749937,
     "user": {
      "displayName": "Fitsum",
      "photoUrl": "https://lh3.googleusercontent.com/a-/AOh14GgulwPAd6Nd1M70pwZ6Ri60G9Sf46krcxfeWofJTg=s64",
      "userId": "06892076790962452809"
     },
     "user_tz": -330
    },
    "id": "4VHxLxdsca6q",
    "outputId": "5cde052a-1e78-4f4a-cc1b-4c2a27bc1360"
   },
   "outputs": [
    {
     "name": "stdout",
     "output_type": "stream",
     "text": [
      "Python For Beginners at 23\n"
     ]
    }
   ],
   "source": [
    "#String display using comma\n",
    "print(course, \"at\", num )"
   ]
  },
  {
   "cell_type": "code",
   "execution_count": 4,
   "metadata": {
    "colab": {
     "base_uri": "https://localhost:8080/"
    },
    "executionInfo": {
     "elapsed": 1204,
     "status": "ok",
     "timestamp": 1621425794788,
     "user": {
      "displayName": "Fitsum",
      "photoUrl": "https://lh3.googleusercontent.com/a-/AOh14GgulwPAd6Nd1M70pwZ6Ri60G9Sf46krcxfeWofJTg=s64",
      "userId": "06892076790962452809"
     },
     "user_tz": -330
    },
    "id": "w6GDfTz9cjZQ",
    "outputId": "88d919c0-55c0-41fb-cf18-ff2d10bc25a9"
   },
   "outputs": [
    {
     "name": "stdout",
     "output_type": "stream",
     "text": [
      "Python For Beginners at 23\n"
     ]
    }
   ],
   "source": [
    "#formated string\n",
    "print(f\"{course} at {num}\")"
   ]
  },
  {
   "cell_type": "code",
   "execution_count": 5,
   "metadata": {
    "colab": {
     "base_uri": "https://localhost:8080/"
    },
    "executionInfo": {
     "elapsed": 1181,
     "status": "ok",
     "timestamp": 1621425131088,
     "user": {
      "displayName": "Fitsum",
      "photoUrl": "https://lh3.googleusercontent.com/a-/AOh14GgulwPAd6Nd1M70pwZ6Ri60G9Sf46krcxfeWofJTg=s64",
      "userId": "06892076790962452809"
     },
     "user_tz": -330
    },
    "id": "B1c1Rwxvd3MP",
    "outputId": "62063c71-cde2-4179-8924-4bfb9adf9327"
   },
   "outputs": [
    {
     "name": "stdout",
     "output_type": "stream",
     "text": [
      "<class 'bool'>\n"
     ]
    }
   ],
   "source": [
    "#boolean Data type\n",
    "print(type(True))"
   ]
  },
  {
   "cell_type": "code",
   "execution_count": 6,
   "metadata": {
    "colab": {
     "base_uri": "https://localhost:8080/"
    },
    "executionInfo": {
     "elapsed": 874,
     "status": "ok",
     "timestamp": 1621425206638,
     "user": {
      "displayName": "Fitsum",
      "photoUrl": "https://lh3.googleusercontent.com/a-/AOh14GgulwPAd6Nd1M70pwZ6Ri60G9Sf46krcxfeWofJTg=s64",
      "userId": "06892076790962452809"
     },
     "user_tz": -330
    },
    "id": "_EK-47n7d99I",
    "outputId": "34042027-8a8a-4bf9-c7fd-be5dfc60a804"
   },
   "outputs": [
    {
     "data": {
      "text/plain": [
       "True"
      ]
     },
     "execution_count": 6,
     "metadata": {},
     "output_type": "execute_result"
    }
   ],
   "source": [
    "\"Python\" in course"
   ]
  },
  {
   "cell_type": "code",
   "execution_count": 7,
   "metadata": {
    "executionInfo": {
     "elapsed": 952,
     "status": "ok",
     "timestamp": 1621425282695,
     "user": {
      "displayName": "Fitsum",
      "photoUrl": "https://lh3.googleusercontent.com/a-/AOh14GgulwPAd6Nd1M70pwZ6Ri60G9Sf46krcxfeWofJTg=s64",
      "userId": "06892076790962452809"
     },
     "user_tz": -330
    },
    "id": "vfdM02sbeTHS"
   },
   "outputs": [],
   "source": [
    "#this is how you write a comment in Python."
   ]
  },
  {
   "cell_type": "code",
   "execution_count": 8,
   "metadata": {
    "colab": {
     "base_uri": "https://localhost:8080/",
     "height": 36
    },
    "executionInfo": {
     "elapsed": 935,
     "status": "ok",
     "timestamp": 1621425350852,
     "user": {
      "displayName": "Fitsum",
      "photoUrl": "https://lh3.googleusercontent.com/a-/AOh14GgulwPAd6Nd1M70pwZ6Ri60G9Sf46krcxfeWofJTg=s64",
      "userId": "06892076790962452809"
     },
     "user_tz": -330
    },
    "id": "HJ8wqmImelqQ",
    "outputId": "57f9f33e-5f59-4134-c4a4-ba684005ecbb"
   },
   "outputs": [
    {
     "data": {
      "text/plain": [
       "'Python For Beginners'"
      ]
     },
     "execution_count": 8,
     "metadata": {},
     "output_type": "execute_result"
    }
   ],
   "source": [
    "course"
   ]
  },
  {
   "cell_type": "code",
   "execution_count": 9,
   "metadata": {
    "colab": {
     "base_uri": "https://localhost:8080/"
    },
    "executionInfo": {
     "elapsed": 1399,
     "status": "ok",
     "timestamp": 1621425360316,
     "user": {
      "displayName": "Fitsum",
      "photoUrl": "https://lh3.googleusercontent.com/a-/AOh14GgulwPAd6Nd1M70pwZ6Ri60G9Sf46krcxfeWofJTg=s64",
      "userId": "06892076790962452809"
     },
     "user_tz": -330
    },
    "id": "FFkWycHae2Tm",
    "outputId": "f23a5382-f925-45f4-f9ed-53ab4240d294"
   },
   "outputs": [
    {
     "data": {
      "text/plain": [
       "23"
      ]
     },
     "execution_count": 9,
     "metadata": {},
     "output_type": "execute_result"
    }
   ],
   "source": [
    "num"
   ]
  },
  {
   "cell_type": "code",
   "execution_count": 10,
   "metadata": {
    "colab": {
     "base_uri": "https://localhost:8080/",
     "height": 36
    },
    "executionInfo": {
     "elapsed": 938,
     "status": "ok",
     "timestamp": 1621425434169,
     "user": {
      "displayName": "Fitsum",
      "photoUrl": "https://lh3.googleusercontent.com/a-/AOh14GgulwPAd6Nd1M70pwZ6Ri60G9Sf46krcxfeWofJTg=s64",
      "userId": "06892076790962452809"
     },
     "user_tz": -330
    },
    "id": "hixklfL-e4gI",
    "outputId": "37d3bc94-833e-4df0-cc55-c8eec1e4929d"
   },
   "outputs": [
    {
     "data": {
      "text/plain": [
       "'Pytho'"
      ]
     },
     "execution_count": 10,
     "metadata": {},
     "output_type": "execute_result"
    }
   ],
   "source": [
    "#how to access \n",
    "course[0:5]"
   ]
  },
  {
   "cell_type": "code",
   "execution_count": 11,
   "metadata": {
    "colab": {
     "base_uri": "https://localhost:8080/",
     "height": 36
    },
    "executionInfo": {
     "elapsed": 1430,
     "status": "ok",
     "timestamp": 1621425532726,
     "user": {
      "displayName": "Fitsum",
      "photoUrl": "https://lh3.googleusercontent.com/a-/AOh14GgulwPAd6Nd1M70pwZ6Ri60G9Sf46krcxfeWofJTg=s64",
      "userId": "06892076790962452809"
     },
     "user_tz": -330
    },
    "id": "l_dCpmz3fKpg",
    "outputId": "0801fa82-bee2-4b54-e59a-cc8d02b5c8ac"
   },
   "outputs": [
    {
     "data": {
      "text/plain": [
       "'Python'"
      ]
     },
     "execution_count": 11,
     "metadata": {},
     "output_type": "execute_result"
    }
   ],
   "source": [
    "#the last number will be excluded in the slicing\n",
    "course[0:6]"
   ]
  },
  {
   "cell_type": "code",
   "execution_count": 12,
   "metadata": {
    "colab": {
     "base_uri": "https://localhost:8080/"
    },
    "executionInfo": {
     "elapsed": 1258,
     "status": "ok",
     "timestamp": 1621425582331,
     "user": {
      "displayName": "Fitsum",
      "photoUrl": "https://lh3.googleusercontent.com/a-/AOh14GgulwPAd6Nd1M70pwZ6Ri60G9Sf46krcxfeWofJTg=s64",
      "userId": "06892076790962452809"
     },
     "user_tz": -330
    },
    "id": "MGNnPljEfilm",
    "outputId": "d6418ccc-602b-439f-ae22-39aca2d97f91"
   },
   "outputs": [
    {
     "data": {
      "text/plain": [
       "20"
      ]
     },
     "execution_count": 12,
     "metadata": {},
     "output_type": "execute_result"
    }
   ],
   "source": [
    "len(course)"
   ]
  },
  {
   "cell_type": "code",
   "execution_count": 13,
   "metadata": {
    "colab": {
     "base_uri": "https://localhost:8080/"
    },
    "executionInfo": {
     "elapsed": 924,
     "status": "ok",
     "timestamp": 1621425743778,
     "user": {
      "displayName": "Fitsum",
      "photoUrl": "https://lh3.googleusercontent.com/a-/AOh14GgulwPAd6Nd1M70pwZ6Ri60G9Sf46krcxfeWofJTg=s64",
      "userId": "06892076790962452809"
     },
     "user_tz": -330
    },
    "id": "5k5f5JLmfuvf",
    "outputId": "c9305b3e-8eed-4dea-f185-9d16f3a71320"
   },
   "outputs": [
    {
     "name": "stdout",
     "output_type": "stream",
     "text": [
      "python for beginners\n"
     ]
    }
   ],
   "source": [
    "course.lower()\n",
    "print(course.lower())"
   ]
  },
  {
   "cell_type": "code",
   "execution_count": 14,
   "metadata": {
    "colab": {
     "base_uri": "https://localhost:8080/"
    },
    "executionInfo": {
     "elapsed": 1070,
     "status": "ok",
     "timestamp": 1621425763571,
     "user": {
      "displayName": "Fitsum",
      "photoUrl": "https://lh3.googleusercontent.com/a-/AOh14GgulwPAd6Nd1M70pwZ6Ri60G9Sf46krcxfeWofJTg=s64",
      "userId": "06892076790962452809"
     },
     "user_tz": -330
    },
    "id": "UnzlJbCkgTuP",
    "outputId": "595980f6-7d19-44c6-c272-87d0889b7b7c"
   },
   "outputs": [
    {
     "name": "stdout",
     "output_type": "stream",
     "text": [
      "PYTHON FOR BEGINNERS\n"
     ]
    }
   ],
   "source": [
    "print(course.upper())"
   ]
  },
  {
   "cell_type": "code",
   "execution_count": 15,
   "metadata": {
    "colab": {
     "base_uri": "https://localhost:8080/",
     "height": 36
    },
    "executionInfo": {
     "elapsed": 1329,
     "status": "ok",
     "timestamp": 1621425781950,
     "user": {
      "displayName": "Fitsum",
      "photoUrl": "https://lh3.googleusercontent.com/a-/AOh14GgulwPAd6Nd1M70pwZ6Ri60G9Sf46krcxfeWofJTg=s64",
      "userId": "06892076790962452809"
     },
     "user_tz": -330
    },
    "id": "sSxjBlo9gbCe",
    "outputId": "00de096f-eb61-4931-81c8-820de111d8dd"
   },
   "outputs": [
    {
     "data": {
      "text/plain": [
       "'Python For Beginners'"
      ]
     },
     "execution_count": 15,
     "metadata": {},
     "output_type": "execute_result"
    }
   ],
   "source": [
    "course.title()"
   ]
  },
  {
   "cell_type": "code",
   "execution_count": 16,
   "metadata": {
    "colab": {
     "base_uri": "https://localhost:8080/",
     "height": 36
    },
    "executionInfo": {
     "elapsed": 1229,
     "status": "ok",
     "timestamp": 1621426001037,
     "user": {
      "displayName": "Fitsum",
      "photoUrl": "https://lh3.googleusercontent.com/a-/AOh14GgulwPAd6Nd1M70pwZ6Ri60G9Sf46krcxfeWofJTg=s64",
      "userId": "06892076790962452809"
     },
     "user_tz": -330
    },
    "id": "YAKHOqSpgfdn",
    "outputId": "b13f9374-12c7-4836-a240-b8026eeb7032"
   },
   "outputs": [
    {
     "data": {
      "text/plain": [
       "'fitsum'"
      ]
     },
     "execution_count": 16,
     "metadata": {},
     "output_type": "execute_result"
    }
   ],
   "source": [
    "name =\"fitsum\"\n",
    "name"
   ]
  },
  {
   "cell_type": "code",
   "execution_count": 17,
   "metadata": {
    "colab": {
     "base_uri": "https://localhost:8080/"
    },
    "executionInfo": {
     "elapsed": 4280,
     "status": "ok",
     "timestamp": 1621426080908,
     "user": {
      "displayName": "Fitsum",
      "photoUrl": "https://lh3.googleusercontent.com/a-/AOh14GgulwPAd6Nd1M70pwZ6Ri60G9Sf46krcxfeWofJTg=s64",
      "userId": "06892076790962452809"
     },
     "user_tz": -330
    },
    "id": "yoNojo5AhU-H",
    "outputId": "ba58627c-58f5-4d07-fa8e-dec64f204b02"
   },
   "outputs": [
    {
     "name": "stdout",
     "output_type": "stream",
     "text": [
      " please enter your name:\n"
     ]
    }
   ],
   "source": [
    "name =input(\" please enter your name:\")"
   ]
  },
  {
   "cell_type": "code",
   "execution_count": 18,
   "metadata": {
    "colab": {
     "base_uri": "https://localhost:8080/",
     "height": 36
    },
    "executionInfo": {
     "elapsed": 1244,
     "status": "ok",
     "timestamp": 1621426082697,
     "user": {
      "displayName": "Fitsum",
      "photoUrl": "https://lh3.googleusercontent.com/a-/AOh14GgulwPAd6Nd1M70pwZ6Ri60G9Sf46krcxfeWofJTg=s64",
      "userId": "06892076790962452809"
     },
     "user_tz": -330
    },
    "id": "g2327vzxha6X",
    "outputId": "6106475a-53fb-4f08-b0d6-3f280813383d"
   },
   "outputs": [
    {
     "data": {
      "text/plain": [
       "''"
      ]
     },
     "execution_count": 18,
     "metadata": {},
     "output_type": "execute_result"
    }
   ],
   "source": [
    "name"
   ]
  },
  {
   "cell_type": "code",
   "execution_count": 19,
   "metadata": {
    "colab": {
     "base_uri": "https://localhost:8080/"
    },
    "executionInfo": {
     "elapsed": 9460,
     "status": "ok",
     "timestamp": 1621426692781,
     "user": {
      "displayName": "Fitsum",
      "photoUrl": "https://lh3.googleusercontent.com/a-/AOh14GgulwPAd6Nd1M70pwZ6Ri60G9Sf46krcxfeWofJTg=s64",
      "userId": "06892076790962452809"
     },
     "user_tz": -330
    },
    "id": "A3kjHRiVhc8h",
    "outputId": "e118a87a-3c7d-4203-e4cb-225fd8c97359"
   },
   "outputs": [
    {
     "name": "stdout",
     "output_type": "stream",
     "text": [
      "please enter your weight \n",
      "\n"
     ]
    }
   ],
   "source": [
    "weight = input(\"please enter your weight \\n\")"
   ]
  },
  {
   "cell_type": "code",
   "execution_count": 20,
   "metadata": {
    "colab": {
     "base_uri": "https://localhost:8080/",
     "height": 36
    },
    "executionInfo": {
     "elapsed": 791,
     "status": "ok",
     "timestamp": 1621426693963,
     "user": {
      "displayName": "Fitsum",
      "photoUrl": "https://lh3.googleusercontent.com/a-/AOh14GgulwPAd6Nd1M70pwZ6Ri60G9Sf46krcxfeWofJTg=s64",
      "userId": "06892076790962452809"
     },
     "user_tz": -330
    },
    "id": "kLgp9gjUiein",
    "outputId": "6698dc4e-ff6e-4a28-bb04-fdad5c9e7d13"
   },
   "outputs": [
    {
     "data": {
      "text/plain": [
       "''"
      ]
     },
     "execution_count": 20,
     "metadata": {},
     "output_type": "execute_result"
    }
   ],
   "source": [
    "weight"
   ]
  },
  {
   "cell_type": "code",
   "execution_count": 21,
   "metadata": {
    "colab": {
     "base_uri": "https://localhost:8080/"
    },
    "executionInfo": {
     "elapsed": 1233,
     "status": "ok",
     "timestamp": 1621426696454,
     "user": {
      "displayName": "Fitsum",
      "photoUrl": "https://lh3.googleusercontent.com/a-/AOh14GgulwPAd6Nd1M70pwZ6Ri60G9Sf46krcxfeWofJTg=s64",
      "userId": "06892076790962452809"
     },
     "user_tz": -330
    },
    "id": "tU738gLoihGP",
    "outputId": "c5628fbd-71f1-48f3-8e9b-f1dab38141f9"
   },
   "outputs": [
    {
     "data": {
      "text/plain": [
       "str"
      ]
     },
     "execution_count": 21,
     "metadata": {},
     "output_type": "execute_result"
    }
   ],
   "source": [
    "type(weight)"
   ]
  },
  {
   "cell_type": "code",
   "execution_count": 22,
   "metadata": {
    "executionInfo": {
     "elapsed": 1226,
     "status": "ok",
     "timestamp": 1621426699311,
     "user": {
      "displayName": "Fitsum",
      "photoUrl": "https://lh3.googleusercontent.com/a-/AOh14GgulwPAd6Nd1M70pwZ6Ri60G9Sf46krcxfeWofJTg=s64",
      "userId": "06892076790962452809"
     },
     "user_tz": -330
    },
    "id": "-LpjStilijAI"
   },
   "outputs": [
    {
     "ename": "ValueError",
     "evalue": "invalid literal for int() with base 10: ''",
     "output_type": "error",
     "traceback": [
      "\u001b[1;31m---------------------------------------------------------------------------\u001b[0m",
      "\u001b[1;31mValueError\u001b[0m                                Traceback (most recent call last)",
      "\u001b[1;32m~\\AppData\\Local\\Temp/ipykernel_78016/326168941.py\u001b[0m in \u001b[0;36m<module>\u001b[1;34m\u001b[0m\n\u001b[1;32m----> 1\u001b[1;33m \u001b[0mweight\u001b[0m \u001b[1;33m=\u001b[0m \u001b[0mint\u001b[0m\u001b[1;33m(\u001b[0m\u001b[0mweight\u001b[0m\u001b[1;33m)\u001b[0m\u001b[1;33m\u001b[0m\u001b[1;33m\u001b[0m\u001b[0m\n\u001b[0m",
      "\u001b[1;31mValueError\u001b[0m: invalid literal for int() with base 10: ''"
     ]
    }
   ],
   "source": [
    "weight = int(weight)"
   ]
  },
  {
   "cell_type": "code",
   "execution_count": 23,
   "metadata": {
    "colab": {
     "base_uri": "https://localhost:8080/"
    },
    "executionInfo": {
     "elapsed": 1360,
     "status": "ok",
     "timestamp": 1621426701169,
     "user": {
      "displayName": "Fitsum",
      "photoUrl": "https://lh3.googleusercontent.com/a-/AOh14GgulwPAd6Nd1M70pwZ6Ri60G9Sf46krcxfeWofJTg=s64",
      "userId": "06892076790962452809"
     },
     "user_tz": -330
    },
    "id": "-N-HFkDZint3",
    "outputId": "4f043abc-558f-4a18-d458-2030e2cc8695"
   },
   "outputs": [
    {
     "data": {
      "text/plain": [
       "str"
      ]
     },
     "execution_count": 23,
     "metadata": {},
     "output_type": "execute_result"
    }
   ],
   "source": [
    "type(weight)"
   ]
  },
  {
   "cell_type": "code",
   "execution_count": 24,
   "metadata": {
    "colab": {
     "base_uri": "https://localhost:8080/"
    },
    "executionInfo": {
     "elapsed": 890,
     "status": "ok",
     "timestamp": 1621427217797,
     "user": {
      "displayName": "Fitsum",
      "photoUrl": "https://lh3.googleusercontent.com/a-/AOh14GgulwPAd6Nd1M70pwZ6Ri60G9Sf46krcxfeWofJTg=s64",
      "userId": "06892076790962452809"
     },
     "user_tz": -330
    },
    "id": "v_1bZLuPiqCo",
    "outputId": "1d1825ce-8208-40bf-b9d6-34387e76d25e"
   },
   "outputs": [
    {
     "name": "stdout",
     "output_type": "stream",
     "text": [
      " It is a good day!\n"
     ]
    }
   ],
   "source": [
    "temp = 32\n",
    "if temp > 35:\n",
    "  print(\" It is a  hot day!\")\n",
    "else:\n",
    "  print(\" It is a good day!\")"
   ]
  },
  {
   "cell_type": "code",
   "execution_count": null,
   "metadata": {
    "id": "4rxx3yGKl-HY"
   },
   "outputs": [],
   "source": []
  },
  {
   "cell_type": "code",
   "execution_count": null,
   "metadata": {},
   "outputs": [],
   "source": []
  },
  {
   "cell_type": "code",
   "execution_count": null,
   "metadata": {},
   "outputs": [],
   "source": []
  }
 ],
 "metadata": {
  "colab": {
   "authorship_tag": "ABX9TyOwOLv3VXptkm3L4LWCo1li",
   "collapsed_sections": [],
   "name": "Day 2 Python 3.ipynb",
   "provenance": []
  },
  "kernelspec": {
   "display_name": "Python 3 (ipykernel)",
   "language": "python",
   "name": "python3"
  },
  "language_info": {
   "codemirror_mode": {
    "name": "ipython",
    "version": 3
   },
   "file_extension": ".py",
   "mimetype": "text/x-python",
   "name": "python",
   "nbconvert_exporter": "python",
   "pygments_lexer": "ipython3",
   "version": "3.9.7"
  }
 },
 "nbformat": 4,
 "nbformat_minor": 1
}
