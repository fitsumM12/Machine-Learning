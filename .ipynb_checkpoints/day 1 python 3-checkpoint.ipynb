{
 "cells": [
  {
   "cell_type": "code",
   "execution_count": 1,
   "metadata": {
    "colab": {
     "base_uri": "https://localhost:8080/"
    },
    "executionInfo": {
     "elapsed": 2881,
     "status": "ok",
     "timestamp": 1621414218902,
     "user": {
      "displayName": "Fitsum",
      "photoUrl": "https://lh3.googleusercontent.com/a-/AOh14GgulwPAd6Nd1M70pwZ6Ri60G9Sf46krcxfeWofJTg=s64",
      "userId": "06892076790962452809"
     },
     "user_tz": -330
    },
    "id": "N-473CLB2EFC",
    "outputId": "3cb7b88b-04c7-42da-ad15-4e82cc0ad196"
   },
   "outputs": [
    {
     "name": "stdout",
     "output_type": "stream",
     "text": [
      "2\n"
     ]
    }
   ],
   "source": [
    "print(1+1)"
   ]
  },
  {
   "cell_type": "code",
   "execution_count": 3,
   "metadata": {
    "colab": {
     "base_uri": "https://localhost:8080/"
    },
    "executionInfo": {
     "elapsed": 1545,
     "status": "ok",
     "timestamp": 1621414260254,
     "user": {
      "displayName": "Fitsum",
      "photoUrl": "https://lh3.googleusercontent.com/a-/AOh14GgulwPAd6Nd1M70pwZ6Ri60G9Sf46krcxfeWofJTg=s64",
      "userId": "06892076790962452809"
     },
     "user_tz": -330
    },
    "id": "-cn9AToi2KAZ",
    "outputId": "1fd7fecd-029b-4ef6-de25-67678075727e"
   },
   "outputs": [
    {
     "name": "stdout",
     "output_type": "stream",
     "text": [
      "fitsum mesfin\n"
     ]
    }
   ],
   "source": [
    "myname = \"fitsum mesfin\"\n",
    "print(myname)\n"
   ]
  },
  {
   "cell_type": "code",
   "execution_count": 5,
   "metadata": {
    "colab": {
     "base_uri": "https://localhost:8080/"
    },
    "executionInfo": {
     "elapsed": 1148,
     "status": "ok",
     "timestamp": 1621414426931,
     "user": {
      "displayName": "Fitsum",
      "photoUrl": "https://lh3.googleusercontent.com/a-/AOh14GgulwPAd6Nd1M70pwZ6Ri60G9Sf46krcxfeWofJTg=s64",
      "userId": "06892076790962452809"
     },
     "user_tz": -330
    },
    "id": "erFWpG2w0ifa",
    "outputId": "42caf798-49c2-4556-ec02-e74d3472b793"
   },
   "outputs": [
    {
     "name": "stdout",
     "output_type": "stream",
     "text": [
      "[1 2 3 4]\n"
     ]
    }
   ],
   "source": [
    "import numpy as np\n",
    "arr = np.array([1,2,3,4])\n",
    "\n",
    "print(arr)"
   ]
  }
 ],
 "metadata": {
  "colab": {
   "authorship_tag": "ABX9TyN+bMC8O0S7SJikKn2L1f54",
   "collapsed_sections": [],
   "name": "intro.ipynb",
   "provenance": [],
   "toc_visible": true
  },
  "kernelspec": {
   "display_name": "Python 3 (ipykernel)",
   "language": "python",
   "name": "python3"
  },
  "language_info": {
   "codemirror_mode": {
    "name": "ipython",
    "version": 3
   },
   "file_extension": ".py",
   "mimetype": "text/x-python",
   "name": "python",
   "nbconvert_exporter": "python",
   "pygments_lexer": "ipython3",
   "version": "3.9.7"
  }
 },
 "nbformat": 4,
 "nbformat_minor": 1
}
